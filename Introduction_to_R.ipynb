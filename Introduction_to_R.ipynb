{
  "nbformat": 4,
  "nbformat_minor": 0,
  "metadata": {
    "colab": {
      "provenance": [],
      "authorship_tag": "ABX9TyOoT2UUb+50S9VATEsl4cG+",
      "include_colab_link": true
    },
    "kernelspec": {
      "name": "ir",
      "display_name": "R"
    },
    "language_info": {
      "name": "R"
    }
  },
  "cells": [
    {
      "cell_type": "markdown",
      "metadata": {
        "id": "view-in-github",
        "colab_type": "text"
      },
      "source": [
        "<a href=\"https://colab.research.google.com/github/AIDELabAZ/ugra/blob/main/Introduction_to_R.ipynb\" target=\"_parent\"><img src=\"https://colab.research.google.com/assets/colab-badge.svg\" alt=\"Open In Colab\"/></a>"
      ]
    },
    {
      "cell_type": "markdown",
      "source": [
        "## **Tutorial: Introduction to R**\n",
        "\n",
        "R is a powerful software environment for data analysis, graphics, and especially statistical analysis. It is available free to the public at [www.r-project.org](https://www.r-project.org). This notebook provides an introduction to R designed for students. No previous experience is needed.\n",
        "\n",
        "This tutorial is built from [Eric Feigelson's 2022 Tutorial 1 Intro R from Summer School in Statistics for Astromers XVII in June of 2022](https://colab.research.google.com/drive/1iz6ILnVGt8Qc6UR1l7oTPou4l6WSrw9S?usp=sharing#scrollTo=g-1EX1EjUnB_).\n",
        "\n",
        "### Running Jupyter notebooks\n",
        "\n",
        "We are using Jupyter notebooks in Google's Colaboratory environment.  To run them here, click the **Connect** button in the upper-right section of the page. When you encounter a Jupyter cell with an R script, click the black circle with arrow button to run the code.\n",
        "\n",
        "To explore and learn, when you are working in your own copy of a notebook, you are encouraged to investigate options and learn further by editing the script; again click the black circle to run the cell.\n",
        "\n",
        "#### Some basic operational information:\n",
        "- R is driven by the command line in the R console.  \n",
        "- R has >100,000 'functions' that perform various tasks. Each function uses () brackets to list arguments and parameters.  \n",
        "- Every function has a 'help(fn)' page telling how it is used, what operation is run, and what output it produces with references and examples that can be cut-and-paste into an R console. It is essential for both novice and experienced R programmers to read help files.\n",
        "- A hash mark ( # ) denotes comments in an R script.  A semi-colon ( ; ) has the same action as a carriage return."
      ],
      "metadata": {
        "id": "LjWJth12HJan"
      }
    },
    {
      "cell_type": "markdown",
      "source": [
        "**Section 1**\n",
        "\n",
        "Here we will set up and expore our software environment.\n",
        "\n",
        "You will want to ensure you set the environment to R (rather than Python. To do this, go tothe \"Runtime\" dropdown menu and select \"Change Runtime type\". This will allow you to change from Python to R.\n",
        "\n",
        "Now, let's get into coding for setup:\n",
        "- `sessionInfo()` tells the operating system, and basic pre-installed packages.\n",
        "- `getwd()` and `setwd()` are commonly used functions at the beginning of a session -- `wd` stands for 'working directory'. An important note is that Google Colaboratory does not allow changing directories, and we'll discuss this more later.\n",
        "-`library()` pops up a new window listing the CRAN packages currently available to you. Remember there are ~19,000 more!  \n",
        "-`citation()` gives the citation to R for publications. Every CRAN package has a corresponding `citation(package)` that should be used for publications."
      ],
      "metadata": {
        "id": "eM7Ese5FJurL"
      }
    },
    {
      "cell_type": "code",
      "source": [
        "# Section 1\n",
        "\n",
        "# set up your session\n",
        "     sessionInfo()"
      ],
      "metadata": {
        "colab": {
          "base_uri": "https://localhost:8080/",
          "height": 520
        },
        "id": "mvzc05q3IhQ6",
        "outputId": "324f3902-3dcc-417a-869d-a17680902cbf"
      },
      "execution_count": 1,
      "outputs": [
        {
          "output_type": "display_data",
          "data": {
            "text/plain": [
              "R version 4.3.3 (2024-02-29)\n",
              "Platform: x86_64-pc-linux-gnu (64-bit)\n",
              "Running under: Ubuntu 22.04.3 LTS\n",
              "\n",
              "Matrix products: default\n",
              "BLAS:   /usr/lib/x86_64-linux-gnu/openblas-pthread/libblas.so.3 \n",
              "LAPACK: /usr/lib/x86_64-linux-gnu/openblas-pthread/libopenblasp-r0.3.20.so;  LAPACK version 3.10.0\n",
              "\n",
              "locale:\n",
              " [1] LC_CTYPE=en_US.UTF-8       LC_NUMERIC=C              \n",
              " [3] LC_TIME=en_US.UTF-8        LC_COLLATE=en_US.UTF-8    \n",
              " [5] LC_MONETARY=en_US.UTF-8    LC_MESSAGES=en_US.UTF-8   \n",
              " [7] LC_PAPER=en_US.UTF-8       LC_NAME=C                 \n",
              " [9] LC_ADDRESS=C               LC_TELEPHONE=C            \n",
              "[11] LC_MEASUREMENT=en_US.UTF-8 LC_IDENTIFICATION=C       \n",
              "\n",
              "time zone: Etc/UTC\n",
              "tzcode source: system (glibc)\n",
              "\n",
              "attached base packages:\n",
              "[1] stats     graphics  grDevices utils     datasets  methods   base     \n",
              "\n",
              "loaded via a namespace (and not attached):\n",
              " [1] digest_0.6.34   IRdisplay_1.1   utf8_1.2.4      base64enc_0.1-3\n",
              " [5] fastmap_1.1.1   glue_1.7.0      htmltools_0.5.7 repr_1.1.6     \n",
              " [9] lifecycle_1.0.4 cli_3.6.2       fansi_1.0.6     vctrs_0.6.5    \n",
              "[13] pbdZMQ_0.3-11   compiler_4.3.3  tools_4.3.3     evaluate_0.23  \n",
              "[17] pillar_1.9.0    crayon_1.5.2    rlang_1.1.3     jsonlite_1.8.8 \n",
              "[21] IRkernel_1.3.2  uuid_1.2-0     "
            ]
          },
          "metadata": {}
        }
      ]
    },
    {
      "cell_type": "code",
      "source": [
        "# find working directory\n",
        "     #setwd(C:/Users/aljosephson/git/ugra/r-collab)\n",
        "     #getwd()"
      ],
      "metadata": {
        "colab": {
          "base_uri": "https://localhost:8080/",
          "height": 124
        },
        "id": "_N5LA8GQMM9S",
        "outputId": "12afc1fa-b117-4c51-f342-79c479f362aa"
      },
      "execution_count": 3,
      "outputs": [
        {
          "output_type": "error",
          "ename": "ERROR",
          "evalue": "Error in parse(text = x, srcfile = src): <text>:2:14: unexpected '/'\n1: # find working directory\n2:      setwd(C:/\n                ^\n",
          "traceback": [
            "Error in parse(text = x, srcfile = src): <text>:2:14: unexpected '/'\n1: # find working directory\n2:      setwd(C:/\n                ^\nTraceback:\n"
          ]
        }
      ]
    },
    {
      "cell_type": "code",
      "source": [
        "# see packages installed on computer\n",
        "     library()\n",
        "# quote this citation in publications using R\n",
        "     citation()"
      ],
      "metadata": {
        "colab": {
          "base_uri": "https://localhost:8080/",
          "height": 364
        },
        "id": "NuyzQkI2NO6o",
        "outputId": "169f9a52-e4b8-4ae3-a676-645fc43e0409"
      },
      "execution_count": 5,
      "outputs": [
        {
          "output_type": "display_data",
          "data": {
            "text/plain": [
              "To cite R in publications use:\n",
              "\n",
              "  R Core Team (2024). _R: A Language and Environment for Statistical\n",
              "  Computing_. R Foundation for Statistical Computing, Vienna, Austria.\n",
              "  <https://www.R-project.org/>.\n",
              "\n",
              "A BibTeX entry for LaTeX users is\n",
              "\n",
              "  @Manual{,\n",
              "    title = {R: A Language and Environment for Statistical Computing},\n",
              "    author = {{R Core Team}},\n",
              "    organization = {R Foundation for Statistical Computing},\n",
              "    address = {Vienna, Austria},\n",
              "    year = {2024},\n",
              "    url = {https://www.R-project.org/},\n",
              "  }\n",
              "\n",
              "We have invested a lot of time and effort in creating R, please cite it\n",
              "when using it for data analysis. See also ‘citation(\"pkgname\")’ for\n",
              "citing R packages."
            ]
          },
          "metadata": {}
        }
      ]
    }
  ]
}