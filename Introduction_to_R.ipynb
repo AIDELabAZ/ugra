{
  "nbformat": 4,
  "nbformat_minor": 0,
  "metadata": {
    "colab": {
      "provenance": [],
      "authorship_tag": "ABX9TyMOV5ecRKQRGlBn3BS1yIzm",
      "include_colab_link": true
    },
    "kernelspec": {
      "name": "python3",
      "display_name": "Python 3"
    },
    "language_info": {
      "name": "python"
    }
  },
  "cells": [
    {
      "cell_type": "markdown",
      "metadata": {
        "id": "view-in-github",
        "colab_type": "text"
      },
      "source": [
        "<a href=\"https://colab.research.google.com/github/AIDELabAZ/ugra/blob/main/Introduction_to_R.ipynb\" target=\"_parent\"><img src=\"https://colab.research.google.com/assets/colab-badge.svg\" alt=\"Open In Colab\"/></a>"
      ]
    },
    {
      "cell_type": "markdown",
      "source": [
        "## **Tutorial: Introduction to R**\n",
        "\n",
        "R is a powerful software environment for data analysis, graphics, and especially statistical analysis. It is available free to the public at [www.r-project.org](https://www.r-project.org). This notebook provides an introduction to R designed for students. No previous experience is needed.\n",
        "\n",
        "This tutorial is built from [Eric Feigelson's 2022 Tutorial 1 Intro R from Summer School in Statistics for Astromers XVII in June of 2022](https://colab.research.google.com/drive/1iz6ILnVGt8Qc6UR1l7oTPou4l6WSrw9S?usp=sharing#scrollTo=g-1EX1EjUnB_).\n",
        "\n",
        "### Running Jupyter notebooks\n",
        "\n",
        "We are using Jupyter notebooks in Google's Colaboratory environment.  To run them here, click the **Connect** button in the upper-right section of the page. When you encounter a Jupyter cell with an R script, click the black circle with arrow button to run the code.\n",
        "\n",
        "To explore and learn, when you are working in your own copy of a notebook, you are encouraged to investigate options and learn further by editing the script; again click the black circle to run the cell.\n",
        "\n",
        "#### Some basic operational information:\n",
        "- R is driven by the command line in the R console.  \n",
        "- R has >100,000 'functions' that perform various tasks. Each function uses () brackets to list arguments and parameters.  \n",
        "- Every function has a 'help(fn)' page telling how it is used, what operation is run, and what output it produces with references and examples that can be cut-and-paste into an R console. It is essential for both novice and experienced R programmers to read help files.\n",
        "- A hash mark ( # ) denotes comments in an R script.  A semi-colon ( ; ) has the same action as a carriage return."
      ],
      "metadata": {
        "id": "LjWJth12HJan"
      }
    },
    {
      "cell_type": "code",
      "source": [],
      "metadata": {
        "id": "mvzc05q3IhQ6"
      },
      "execution_count": null,
      "outputs": []
    }
  ]
}